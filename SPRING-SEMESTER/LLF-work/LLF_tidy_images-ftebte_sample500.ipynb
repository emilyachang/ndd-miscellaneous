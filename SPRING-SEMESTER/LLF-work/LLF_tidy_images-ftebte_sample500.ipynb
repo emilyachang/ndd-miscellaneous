{
 "cells": [
  {
   "cell_type": "markdown",
   "metadata": {},
   "source": [
    "# LLF_tidy_images - Extended Recruitment Experiment"
   ]
  },
  {
   "cell_type": "code",
   "execution_count": 2,
   "metadata": {},
   "outputs": [],
   "source": [
    "import numpy as np\n",
    "import pandas as pd\n",
    "import matplotlib.pyplot as plt\n",
    "import seaborn as sns\n",
    "\n",
    "import os\n",
    "\n",
    "from proglearn.forest import LifelongClassificationForest\n",
    "from sklearn.model_selection import train_test_split"
   ]
  },
  {
   "cell_type": "markdown",
   "metadata": {},
   "source": [
    "## FTE/BTE Experiment"
   ]
  },
  {
   "cell_type": "markdown",
   "metadata": {},
   "source": [
    "### Check Imports"
   ]
  },
  {
   "cell_type": "code",
   "execution_count": 2,
   "metadata": {},
   "outputs": [
    {
     "name": "stdout",
     "output_type": "stream",
     "text": [
      "(32, 32, 3)\n",
      "34000\n"
     ]
    }
   ],
   "source": [
    "dataset_name = \"food_101_array_data_x_1\"\n",
    "load = np.load(dataset_name + '.npz')\n",
    "\n",
    "print(load['arr_0'][0].shape)\n",
    "print(len(load['arr_0']))"
   ]
  },
  {
   "cell_type": "code",
   "execution_count": 3,
   "metadata": {},
   "outputs": [
    {
     "name": "stdout",
     "output_type": "stream",
     "text": [
      "(32, 32, 3)\n",
      "4800\n"
     ]
    }
   ],
   "source": [
    "dataset_name = \"dtd_array_data_x\"\n",
    "load = np.load(dataset_name + '.npz')\n",
    "\n",
    "print(load['arr_0'][0].shape)\n",
    "print(len(load['arr_0']))"
   ]
  },
  {
   "cell_type": "code",
   "execution_count": 4,
   "metadata": {},
   "outputs": [
    {
     "name": "stdout",
     "output_type": "stream",
     "text": [
      "(32, 32, 3)\n",
      "9144\n",
      "9144\n"
     ]
    }
   ],
   "source": [
    "dataset_name = '101_ObjectCategories'\n",
    "load = np.load(dataset_name + '.npz')\n",
    "\n",
    "print(load['imgs'][0].shape)\n",
    "print(len(load['imgs']))\n",
    "print(len(load['lbls']))"
   ]
  },
  {
   "cell_type": "code",
   "execution_count": 5,
   "metadata": {
    "scrolled": true
   },
   "outputs": [
    {
     "data": {
      "text/plain": [
       "16    800\n",
       "79    798\n",
       "91    467\n",
       "44    435\n",
       "95    435\n",
       "     ... \n",
       "39     34\n",
       "71     34\n",
       "74     33\n",
       "98     32\n",
       "96     31\n",
       "Length: 102, dtype: int64"
      ]
     },
     "execution_count": 5,
     "metadata": {},
     "output_type": "execute_result"
    }
   ],
   "source": [
    "labels = pd.Index(load['lbls'])\n",
    "labels.value_counts()"
   ]
  },
  {
   "cell_type": "code",
   "execution_count": 6,
   "metadata": {},
   "outputs": [
    {
     "data": {
      "text/plain": [
       "16    800\n",
       "79    798\n",
       "91    467\n",
       "44    435\n",
       "95    435\n",
       "     ... \n",
       "69     52\n",
       "8      51\n",
       "33     51\n",
       "42     50\n",
       "68     50\n",
       "Length: 68, dtype: int64"
      ]
     },
     "execution_count": 6,
     "metadata": {},
     "output_type": "execute_result"
    }
   ],
   "source": [
    "labels.value_counts()[labels.value_counts()>=50]"
   ]
  },
  {
   "cell_type": "markdown",
   "metadata": {},
   "source": [
    "### Preprocess Data"
   ]
  },
  {
   "cell_type": "code",
   "execution_count": 3,
   "metadata": {},
   "outputs": [
    {
     "data": {
      "text/plain": [
       "[array([  0,   0,   0, ..., 101, 101, 101], dtype=uint16),\n",
       " array([6, 9, 9, ..., 5, 1, 7], dtype=uint16),\n",
       " array([19, 29,  0, ..., 51, 42, 70], dtype=uint16),\n",
       " array([ 0,  0,  0, ..., 99, 99, 99], dtype=uint16),\n",
       " array([ 0,  0,  0, ..., 39, 39, 39], dtype=uint16)]"
      ]
     },
     "execution_count": 3,
     "metadata": {},
     "output_type": "execute_result"
    }
   ],
   "source": [
    "data = []\n",
    "labels = []\n",
    "\n",
    "# import datasets that emily preprocessed\n",
    "for set1 in ['101_ObjectCategories', 'CIFAR_10', 'CIFAR_100']:\n",
    "    # load from npz\n",
    "    load = np.load(set1 + '.npz')\n",
    "    # reformat and append\n",
    "    data.append(load['imgs'].reshape(len(load['imgs']), -1).astype(np.uint8))\n",
    "    labels.append(load['lbls'].astype(np.uint16))\n",
    "\n",
    "# import datasets that rahul preprocessed\n",
    "food_101 = np.empty((0,32*32*3), np.uint8)\n",
    "for set2 in ['food_101_array_data_x_1', 'food_101_array_data_x_2', 'food_101_array_data_x_3']:\n",
    "    # load from npz\n",
    "    load = np.load(set2 + '.npz')\n",
    "    # reformat and append\n",
    "    food_101 = np.vstack((food_101,load['arr_0'].reshape(len(load['arr_0']), -1).astype(np.uint8)))\n",
    "data.append(food_101)\n",
    "labels.append(np.concatenate([([i]*1000) for i in list(range(100))], axis=0).astype(np.uint16))\n",
    "# load from npz\n",
    "load = np.load('dtd_array_data_x.npz')\n",
    "# reformat and append\n",
    "data.append(load['arr_0'].reshape(len(load['arr_0']), -1).astype(np.uint8))\n",
    "labels.append(np.concatenate([([i]*120) for i in list(range(40))], axis=0).astype(np.uint16))\n",
    "labels"
   ]
  },
  {
   "cell_type": "code",
   "execution_count": 4,
   "metadata": {
    "scrolled": true
   },
   "outputs": [
    {
     "data": {
      "text/plain": [
       "[array([  0,   0,   0, ..., 101, 101, 101], dtype=uint16),\n",
       " array([108, 111, 111, ..., 107, 103, 109], dtype=uint16),\n",
       " array([131, 141, 112, ..., 163, 154, 182], dtype=uint16),\n",
       " array([212, 212, 212, ..., 311, 311, 311], dtype=uint16),\n",
       " array([312, 312, 312, ..., 351, 351, 351], dtype=uint16)]"
      ]
     },
     "execution_count": 4,
     "metadata": {},
     "output_type": "execute_result"
    }
   ],
   "source": [
    "# modify labels\n",
    "labels2 = []\n",
    "for idx, lbl_set in enumerate(labels):\n",
    "    if idx == 0:\n",
    "        labels2.append(labels[idx])\n",
    "    else:\n",
    "        counter = 0\n",
    "        for i in range(idx):\n",
    "            counter += len(np.unique(labels[i]))\n",
    "        labels2.append(labels[idx] + counter)\n",
    "labels = labels2\n",
    "labels"
   ]
  },
  {
   "cell_type": "markdown",
   "metadata": {},
   "source": [
    "### FTE/BTE Experiment"
   ]
  },
  {
   "cell_type": "code",
   "execution_count": 5,
   "metadata": {},
   "outputs": [],
   "source": [
    "##### MAIN HYPERPARAMS ##################\n",
    "model = \"uf\"\n",
    "num_tasks = 5\n",
    "num_trees = 10\n",
    "num_points_per_task = 500 #5000 # per dataset\n",
    "reps = 5 #30\n",
    "#########################################"
   ]
  },
  {
   "cell_type": "markdown",
   "metadata": {},
   "source": [
    "#### Run Experiment"
   ]
  },
  {
   "cell_type": "code",
   "execution_count": 6,
   "metadata": {},
   "outputs": [],
   "source": [
    "x_data = data\n",
    "y_data = labels"
   ]
  },
  {
   "cell_type": "code",
   "execution_count": 7,
   "metadata": {},
   "outputs": [
    {
     "name": "stdout",
     "output_type": "stream",
     "text": [
      "Starting rep 0\n",
      "task 0\n",
      "task 1\n",
      "task 2\n",
      "task 3\n",
      "task 4\n",
      "Starting rep 1\n",
      "task 0\n",
      "task 1\n",
      "task 2\n",
      "task 3\n",
      "task 4\n",
      "Starting rep 2\n",
      "task 0\n",
      "task 1\n",
      "task 2\n",
      "task 3\n",
      "task 4\n",
      "Starting rep 3\n",
      "task 0\n",
      "task 1\n",
      "task 2\n",
      "task 3\n",
      "task 4\n",
      "Starting rep 4\n",
      "task 0\n",
      "task 1\n",
      "task 2\n",
      "task 3\n",
      "task 4\n"
     ]
    }
   ],
   "source": [
    "# initialize list for storing results\n",
    "accuracies_across_tasks = []\n",
    "\n",
    "# format data\n",
    "if model == 'dnn': # add dnn implementation in the future\n",
    "    x = x_data\n",
    "    y = y_data\n",
    "elif model == 'uf':\n",
    "    x = x_data #.reshape(len(x_data),-1)\n",
    "    y = y_data\n",
    "\n",
    "# get y values per task\n",
    "ys_by_task = [np.unique(i) for i in labels]\n",
    "\n",
    "# run experiment over all reps\n",
    "for rep in range(reps):\n",
    "    print('Starting rep', rep)\n",
    "    \n",
    "    train_x_task = []\n",
    "    train_y_task = []\n",
    "    test_x_task = []\n",
    "    test_y_task = []\n",
    "    \n",
    "    # sample num_points_per_task from each dataset\n",
    "    x_sample = []\n",
    "    y_sample = []\n",
    "    for dataset, label in zip(x, y):\n",
    "        sample = np.random.choice(len(dataset), num_points_per_task)\n",
    "        x_sample.append(dataset[sample])\n",
    "        y_sample.append(label[sample])\n",
    "    \n",
    "    # initialize overall learner\n",
    "    learner = LifelongClassificationForest(default_n_estimators=num_trees, default_max_depth=30)\n",
    "\n",
    "    # for each task\n",
    "    for task in range(num_tasks):\n",
    "        print('task', task)\n",
    "\n",
    "        # get train/test data \n",
    "        tr_x, te_x, tr_y, te_y = train_test_split(x_sample[task], y_sample[task], test_size=0.2)\n",
    "        train_x_task.append(tr_x)\n",
    "        train_y_task.append(tr_y)\n",
    "        test_x_task.append(te_x)\n",
    "        test_y_task.append(te_y)\n",
    "        \n",
    "        # predict on single task (UF learner) - CHANGE TO UNCERTAINTYFOREST LATERS\n",
    "        uf_learner = LifelongClassificationForest(default_n_estimators=num_trees, default_max_depth=30)\n",
    "        uf_learner.add_task(train_x_task[task], train_y_task[task])\n",
    "        uf_predictions = uf_learner.predict(test_x_task[task], task_id=0)\n",
    "        accuracies_across_tasks.append(np.mean(uf_predictions == test_y_task[task]))\n",
    "        \n",
    "        # feed to overall learner \n",
    "        learner.add_task(train_x_task[task], train_y_task[task])\n",
    "\n",
    "        # evaluate for other tasks\n",
    "        for other_task in range(num_tasks):\n",
    "\n",
    "            if other_task > task:\n",
    "                pass\n",
    "\n",
    "            else:\n",
    "                # predict on current task using other tasks\n",
    "                prev_task_predictions = learner.predict(test_x_task[other_task], task_id=other_task)\n",
    "                accuracies_across_tasks.append(np.mean(prev_task_predictions == test_y_task[other_task]))\n",
    "        \n",
    "# average results\n",
    "accuracy_all_task = np.array(accuracies_across_tasks).reshape((reps, -1))\n",
    "accuracy_all_task = np.mean(accuracy_all_task, axis = 0)"
   ]
  },
  {
   "cell_type": "code",
   "execution_count": 8,
   "metadata": {},
   "outputs": [
    {
     "data": {
      "text/plain": [
       "array([0.33 , 0.336, 0.24 , 0.34 , 0.258, 0.052, 0.338, 0.28 , 0.06 ,\n",
       "       0.018, 0.34 , 0.284, 0.054, 0.022, 0.102, 0.332, 0.258, 0.072,\n",
       "       0.028, 0.13 ])"
      ]
     },
     "execution_count": 8,
     "metadata": {},
     "output_type": "execute_result"
    }
   ],
   "source": [
    "accuracy_all_task"
   ]
  },
  {
   "cell_type": "code",
   "execution_count": null,
   "metadata": {},
   "outputs": [],
   "source": [
    "# # run experiment over all reps\n",
    "# for rep in range(reps):\n",
    "#     print('Starting rep', rep)\n",
    "\n",
    "#     # for each task\n",
    "#     for task in range(num_tasks):\n",
    "\n",
    "#         # initialize progressive learner\n",
    "#         learner = LifelongClassificationForest(default_n_estimators=ntrees) #default_max_depth=np.ceil(np.log2(num_points_per_task))\n",
    "\n",
    "#         # get train/test data (train = num_points_per_task)\n",
    "#         index = np.where(np.in1d(y, ys_by_task[task]))\n",
    "#         x_task0 = x[index]\n",
    "#         y_task0 = y[index]\n",
    "#         train_x_task0, test_x_task0, train_y_task0, test_y_task0 = train_test_split(x_task0, y_task0, test_size=0.25)\n",
    "#         train_x_task0 = train_x_task0[:num_points_per_task]\n",
    "#         train_y_task0 = train_y_task0[:num_points_per_task]\n",
    "\n",
    "#         # feed to learner and predict on single task\n",
    "#         learner.add_task(train_x_task0, train_y_task0)\n",
    "#         task_0_predictions = learner.predict(test_x_task0, task_id=task)\n",
    "#         accuracies_across_tasks.append(np.mean(task_0_predictions == test_y_task0))\n",
    "\n",
    "#         # evaluate for other tasks\n",
    "#         for other_task in range(num_tasks):\n",
    "\n",
    "#             if other_task == task:\n",
    "#                 pass\n",
    "\n",
    "#             else:\n",
    "\n",
    "#                 # get train/test data (train = num_points_per_task)\n",
    "#                 index = np.random.choice(np.where(np.in1d(y, ys_by_task[other_task]))[0], num_points_per_task, replace=False)\n",
    "#                 train_x = x[index]\n",
    "#                 train_y = y[index]\n",
    "\n",
    "#                 # add transformer from other tasks\n",
    "#                 learner.add_task(train_x, train_y)\n",
    "\n",
    "#             # predict on current task using other tasks\n",
    "#             prev_task_predictions = learner.predict(test_x_task0, task_id=other_task)\n",
    "#             accuracies_across_tasks.append(np.mean(prev_task_predictions == test_y_task0))\n",
    "\n",
    "# # average results\n",
    "# accuracy_all_task = np.array(accuracies_across_tasks).reshape((reps, -1))\n",
    "# accuracy_all_task = np.mean(accuracy_all_task, axis = 0)"
   ]
  },
  {
   "cell_type": "code",
   "execution_count": 34,
   "metadata": {},
   "outputs": [],
   "source": [
    "# accuracy\n",
    "err = [[] for i in range(num_tasks)]\n",
    "for i in range(num_tasks):\n",
    "    for j in range(i, num_tasks):\n",
    "        err[i].append(1-accuracy_all_task[np.sum(list(range(1,j+2)))+i])\n",
    "\n",
    "# backwards transfer efficiency\n",
    "bte = [[] for i in range(num_tasks)]\n",
    "for i in range(num_tasks):\n",
    "    for j in range(i, num_tasks):\n",
    "        err_up_to_taskt = 1-accuracy_all_task[np.sum(list(range(1,i+2)))+i]\n",
    "        err_all_seen =    1-accuracy_all_task[np.sum(list(range(1,j+2)))+i]\n",
    "        bte[i].append(err_up_to_taskt/err_all_seen)\n",
    "\n",
    "# forwards transfer efficiency\n",
    "fte = [[] for i in range(num_tasks)]\n",
    "for i in range(num_tasks):\n",
    "    err_taskt_only =  1-accuracy_all_task[np.sum(list(range(1,i+2)))-1]\n",
    "    err_up_to_taskt = 1-accuracy_all_task[np.sum(list(range(1,i+2)))+i]\n",
    "    fte[i].append(err_taskt_only/err_up_to_taskt)\n",
    "\n",
    "# transfer efficiency\n",
    "te = [[] for i in range(num_tasks)]\n",
    "for i in range(num_tasks):\n",
    "    for j in range(i, num_tasks):\n",
    "        err_taskt_only =  1-accuracy_all_task[np.sum(list(range(1,i+2)))-1]\n",
    "        err_all_seen =    1-accuracy_all_task[np.sum(list(range(1,j+2)))+i]\n",
    "        te[i].append(err_taskt_only/err_all_seen)"
   ]
  },
  {
   "cell_type": "code",
   "execution_count": 35,
   "metadata": {},
   "outputs": [
    {
     "data": {
      "text/plain": [
       "[[1.0090361445783134],\n",
       " [1.0242587601078168],\n",
       " [1.0085106382978724],\n",
       " [1.0040899795501022],\n",
       " [1.0321839080459771]]"
      ]
     },
     "execution_count": 35,
     "metadata": {},
     "output_type": "execute_result"
    }
   ],
   "source": [
    "fte"
   ]
  },
  {
   "cell_type": "code",
   "execution_count": 36,
   "metadata": {},
   "outputs": [
    {
     "data": {
      "text/plain": [
       "[[1.0,\n",
       "  1.006060606060606,\n",
       "  1.0030211480362536,\n",
       "  1.0060606060606059,\n",
       "  0.9940119760479041],\n",
       " [1.0, 1.0305555555555557, 1.0363128491620113, 1.0],\n",
       " [1.0, 0.9936575052854123, 1.0129310344827585],\n",
       " [1.0, 1.0061728395061729],\n",
       " [1.0]]"
      ]
     },
     "execution_count": 36,
     "metadata": {},
     "output_type": "execute_result"
    }
   ],
   "source": [
    "bte"
   ]
  },
  {
   "cell_type": "code",
   "execution_count": 37,
   "metadata": {},
   "outputs": [
    {
     "data": {
      "text/plain": [
       "[[1.0090361445783134,\n",
       "  1.0151515151515151,\n",
       "  1.012084592145015,\n",
       "  1.015151515151515,\n",
       "  1.0029940119760479],\n",
       " [1.0242587601078168,\n",
       "  1.0555555555555556,\n",
       "  1.0614525139664805,\n",
       "  1.0242587601078168],\n",
       " [1.0085106382978724, 1.0021141649048626, 1.0215517241379308],\n",
       " [1.0040899795501022, 1.0102880658436215],\n",
       " [1.0321839080459771]]"
      ]
     },
     "execution_count": 37,
     "metadata": {},
     "output_type": "execute_result"
    }
   ],
   "source": [
    "te"
   ]
  },
  {
   "cell_type": "code",
   "execution_count": 38,
   "metadata": {},
   "outputs": [
    {
     "data": {
      "text/plain": [
       "[[0.6639999999999999, 0.6599999999999999, 0.662, 0.66, 0.6679999999999999],\n",
       " [0.742, 0.72, 0.716, 0.742],\n",
       " [0.94, 0.946, 0.928],\n",
       " [0.978, 0.972],\n",
       " [0.87]]"
      ]
     },
     "execution_count": 38,
     "metadata": {},
     "output_type": "execute_result"
    }
   ],
   "source": [
    "err"
   ]
  },
  {
   "cell_type": "code",
   "execution_count": 42,
   "metadata": {},
   "outputs": [
    {
     "data": {
      "image/png": "[encoded data removed]",
      "text/plain": [
       "<Figure size 1152x828 with 4 Axes>"
      ]
     },
     "metadata": {},
     "output_type": "display_data"
    }
   ],
   "source": [
    "# set figure parameters and plot results \n",
    "sns.set_style('ticks')\n",
    "clr = [\"#e41a1c\", \"#a65628\", \"#377eb8\", \"#4daf4a\", \"#984ea3\", \"#ff7f00\", \"#CCCC00\"]\n",
    "fontsize=32\n",
    "ticksize=32\n",
    "\n",
    "fig, ax = plt.subplots(2,2, figsize=(16,11.5))\n",
    "sns.despine()\n",
    "sns.color_palette(\"Set1\")\n",
    "\n",
    "ax[0][0].plot(np.arange(1,num_tasks+1), fte, c='red', marker='.', markersize=14, linewidth=3)\n",
    "ax[0][0].hlines(1, 1,num_tasks, colors='grey', linestyles='dashed',linewidth=1.5)\n",
    "ax[0][0].tick_params(labelsize=ticksize)\n",
    "ax[0][0].set_xlabel('Number of tasks seen', fontsize=fontsize)\n",
    "ax[0][0].set_ylabel('log Forward TE', fontsize=fontsize)\n",
    "ax[0][0].set_xticks(list(range(1, num_tasks+1)))\n",
    "ax[0][0].set_yticks([1,1.25,1.5])\n",
    "log_lbl = np.round(np.log([1,1.25,1.5]),2)\n",
    "labels = [item.get_text() for item in ax[0][0].get_yticklabels()]\n",
    "for ii,_ in enumerate(labels):\n",
    "    labels[ii] = str(log_lbl[ii])\n",
    "ax[0][0].set_yticklabels(labels)\n",
    "\n",
    "for i in range(num_tasks):\n",
    "    et = np.asarray(bte[i])\n",
    "    ns = np.arange(i + 1, num_tasks + 1)\n",
    "    ax[0][1].plot(ns, et, c='red', marker='.', markersize=14, linewidth=3)\n",
    "\n",
    "ax[0][1].set_xlabel('Number of tasks seen', fontsize=fontsize)\n",
    "ax[0][1].set_ylabel('log Backward TE', fontsize=fontsize)\n",
    "ax[0][1].tick_params(labelsize=ticksize)\n",
    "ax[0][1].hlines(1, 1,num_tasks, colors='grey', linestyles='dashed',linewidth=1.5)\n",
    "ax[0][1].set_xticks(list(range(1, num_tasks+1)))\n",
    "ax[0][1].set_yticks([1,1.25,1.5])\n",
    "log_lbl = np.round(np.log([1,1.25,1.5]),2)\n",
    "labels = [item.get_text() for item in ax[0][1].get_yticklabels()]\n",
    "for ii,_ in enumerate(labels):\n",
    "    labels[ii] = str(log_lbl[ii])\n",
    "ax[0][1].set_yticklabels(labels)\n",
    "\n",
    "for i in range(num_tasks):\n",
    "    et = np.asarray(te[i])\n",
    "    ns = np.arange(i + 1, num_tasks + 1)\n",
    "    ax[1][0].plot(ns, et, c='red', marker='.', markersize=14, linewidth=3)\n",
    "\n",
    "ax[1][0].set_xlabel('Number of tasks seen', fontsize=fontsize)\n",
    "ax[1][0].set_ylabel('log TE', fontsize=fontsize)\n",
    "#ax[1][0].set_xticks(np.arange(1,10))\n",
    "ax[1][0].tick_params(labelsize=ticksize)\n",
    "ax[1][0].hlines(1, 1,num_tasks, colors='grey', linestyles='dashed',linewidth=1.5)\n",
    "ax[1][0].set_xticks(list(range(1, num_tasks+1)))\n",
    "ax[1][0].set_yticks([1,1.25,1.5])\n",
    "log_lbl = np.round(np.log([1,1.25,1.5]),2)\n",
    "labels = [item.get_text() for item in ax[1][0].get_yticklabels()]\n",
    "for ii,_ in enumerate(labels):\n",
    "    labels[ii] = str(log_lbl[ii])\n",
    "ax[1][0].set_yticklabels(labels)\n",
    "\n",
    "for i in range(num_tasks):\n",
    "    et = np.asarray(err[i])\n",
    "    ns = np.arange(i + 1, num_tasks + 1)\n",
    "    ax[1][1].plot(ns, 1-et , c='red', marker='.', markersize=14, linewidth=3)\n",
    "\n",
    "ax[1][1].set_xlabel('Number of tasks seen', fontsize=fontsize)\n",
    "ax[1][1].set_ylabel('Accuracy', fontsize=fontsize)\n",
    "ax[1][1].tick_params(labelsize=ticksize)\n",
    "ax[1][1].set_xticks([1,2,3,4,5])\n",
    "ax[1][1].set_yticks([0, 0.05, 0.1, 0.15, 0.2, 0.25, 0.3, 0.35])\n",
    "\n",
    "#fig.suptitle(\"Transfer Efficiency Between MNIST and Fashion-MNIST\", fontsize=36)\n",
    "plt.tight_layout()"
   ]
  }
 ],
 "metadata": {
  "kernelspec": {
   "display_name": "Python 3",
   "language": "python",
   "name": "python3"
  },
  "language_info": {
   "codemirror_mode": {
    "name": "ipython",
    "version": 3
   },
   "file_extension": ".py",
   "mimetype": "text/x-python",
   "name": "python",
   "nbconvert_exporter": "python",
   "pygments_lexer": "ipython3",
   "version": "3.7.0"
  }
 },
 "nbformat": 4,
 "nbformat_minor": 4
}

{
 "cells": [
  {
   "cell_type": "markdown",
   "metadata": {},
   "source": [
    "# LLF_tidy_images - Extended Recruitment Experiment"
   ]
  },
  {
   "cell_type": "code",
   "execution_count": 2,
   "metadata": {},
   "outputs": [],
   "source": [
    "import numpy as np\n",
    "import pandas as pd\n",
    "import matplotlib.pyplot as plt\n",
    "import seaborn as sns\n",
    "\n",
    "import os\n",
    "\n",
    "from proglearn.forest import LifelongClassificationForest\n",
    "from sklearn.model_selection import train_test_split"
   ]
  },
  {
   "cell_type": "code",
   "execution_count": 3,
   "metadata": {},
   "outputs": [],
   "source": [
    "from matplotlib.ticker import ScalarFormatter\n",
    "\n",
    "from proglearn.progressive_learner import ClassificationProgressiveLearner\n",
    "from proglearn.transformers import TreeClassificationTransformer\n",
    "from proglearn.voters import TreeClassificationVoter\n",
    "from proglearn.deciders import SimpleArgmaxAverage"
   ]
  },
  {
   "cell_type": "markdown",
   "metadata": {},
   "source": [
    "## FTE/BTE Experiment"
   ]
  },
  {
   "cell_type": "markdown",
   "metadata": {},
   "source": [
    "### Check Imports"
   ]
  },
  {
   "cell_type": "code",
   "execution_count": 2,
   "metadata": {},
   "outputs": [
    {
     "name": "stdout",
     "output_type": "stream",
     "text": [
      "(32, 32, 3)\n",
      "34000\n"
     ]
    }
   ],
   "source": [
    "dataset_name = \"food_101_array_data_x_1\"\n",
    "load = np.load(dataset_name + '.npz')\n",
    "\n",
    "print(load['arr_0'][0].shape)\n",
    "print(len(load['arr_0']))"
   ]
  },
  {
   "cell_type": "code",
   "execution_count": 3,
   "metadata": {},
   "outputs": [
    {
     "name": "stdout",
     "output_type": "stream",
     "text": [
      "(32, 32, 3)\n",
      "4800\n"
     ]
    }
   ],
   "source": [
    "dataset_name = \"dtd_array_data_x\"\n",
    "load = np.load(dataset_name + '.npz')\n",
    "\n",
    "print(load['arr_0'][0].shape)\n",
    "print(len(load['arr_0']))"
   ]
  },
  {
   "cell_type": "code",
   "execution_count": 4,
   "metadata": {},
   "outputs": [
    {
     "name": "stdout",
     "output_type": "stream",
     "text": [
      "(32, 32, 3)\n",
      "9144\n",
      "9144\n"
     ]
    }
   ],
   "source": [
    "dataset_name = '101_ObjectCategories'\n",
    "load = np.load(dataset_name + '.npz')\n",
    "\n",
    "print(load['imgs'][0].shape)\n",
    "print(len(load['imgs']))\n",
    "print(len(load['lbls']))"
   ]
  },
  {
   "cell_type": "code",
   "execution_count": 5,
   "metadata": {
    "scrolled": true
   },
   "outputs": [
    {
     "data": {
      "text/plain": [
       "16    800\n",
       "79    798\n",
       "91    467\n",
       "44    435\n",
       "95    435\n",
       "     ... \n",
       "39     34\n",
       "71     34\n",
       "74     33\n",
       "98     32\n",
       "96     31\n",
       "Length: 102, dtype: int64"
      ]
     },
     "execution_count": 5,
     "metadata": {},
     "output_type": "execute_result"
    }
   ],
   "source": [
    "labels = pd.Index(load['lbls'])\n",
    "labels.value_counts()"
   ]
  },
  {
   "cell_type": "code",
   "execution_count": 6,
   "metadata": {},
   "outputs": [
    {
     "data": {
      "text/plain": [
       "16    800\n",
       "79    798\n",
       "91    467\n",
       "44    435\n",
       "95    435\n",
       "     ... \n",
       "69     52\n",
       "8      51\n",
       "33     51\n",
       "42     50\n",
       "68     50\n",
       "Length: 68, dtype: int64"
      ]
     },
     "execution_count": 6,
     "metadata": {},
     "output_type": "execute_result"
    }
   ],
   "source": [
    "labels.value_counts()[labels.value_counts()>=50]"
   ]
  },
  {
   "cell_type": "markdown",
   "metadata": {},
   "source": [
    "### Preprocess Data"
   ]
  },
  {
   "cell_type": "code",
   "execution_count": 4,
   "metadata": {},
   "outputs": [
    {
     "data": {
      "text/plain": [
       "[array([  0,   0,   0, ..., 101, 101, 101], dtype=uint16),\n",
       " array([6, 9, 9, ..., 5, 1, 7], dtype=uint16),\n",
       " array([19, 29,  0, ..., 51, 42, 70], dtype=uint16),\n",
       " array([ 0,  0,  0, ..., 99, 99, 99], dtype=uint16),\n",
       " array([ 0,  0,  0, ..., 39, 39, 39], dtype=uint16)]"
      ]
     },
     "execution_count": 4,
     "metadata": {},
     "output_type": "execute_result"
    }
   ],
   "source": [
    "data = []\n",
    "labels = []\n",
    "\n",
    "# import datasets that emily preprocessed\n",
    "for set1 in ['101_ObjectCategories', 'CIFAR_10', 'CIFAR_100']:\n",
    "    # load from npz\n",
    "    load = np.load(set1 + '.npz')\n",
    "    # reformat and append\n",
    "    data.append(load['imgs'].reshape(len(load['imgs']), -1).astype(np.uint8))\n",
    "    labels.append(load['lbls'].astype(np.uint16))\n",
    "\n",
    "# import datasets that rahul preprocessed\n",
    "food_101 = np.empty((0,32*32*3), np.uint8)\n",
    "for set2 in ['food_101_array_data_x_1', 'food_101_array_data_x_2', 'food_101_array_data_x_3']:\n",
    "    # load from npz\n",
    "    load = np.load(set2 + '.npz')\n",
    "    # reformat and append\n",
    "    food_101 = np.vstack((food_101,load['arr_0'].reshape(len(load['arr_0']), -1).astype(np.uint8)))\n",
    "data.append(food_101)\n",
    "labels.append(np.concatenate([([i]*1000) for i in list(range(100))], axis=0).astype(np.uint16))\n",
    "# load from npz\n",
    "load = np.load('dtd_array_data_x.npz')\n",
    "# reformat and append\n",
    "data.append(load['arr_0'].reshape(len(load['arr_0']), -1).astype(np.uint8))\n",
    "labels.append(np.concatenate([([i]*120) for i in list(range(40))], axis=0).astype(np.uint16))\n",
    "labels"
   ]
  },
  {
   "cell_type": "code",
   "execution_count": 5,
   "metadata": {
    "scrolled": true
   },
   "outputs": [
    {
     "data": {
      "text/plain": [
       "[array([  0,   0,   0, ..., 101, 101, 101], dtype=uint16),\n",
       " array([108, 111, 111, ..., 107, 103, 109], dtype=uint16),\n",
       " array([131, 141, 112, ..., 163, 154, 182], dtype=uint16),\n",
       " array([212, 212, 212, ..., 311, 311, 311], dtype=uint16),\n",
       " array([312, 312, 312, ..., 351, 351, 351], dtype=uint16)]"
      ]
     },
     "execution_count": 5,
     "metadata": {},
     "output_type": "execute_result"
    }
   ],
   "source": [
    "# modify labels\n",
    "labels2 = []\n",
    "for idx, lbl_set in enumerate(labels):\n",
    "    if idx == 0:\n",
    "        labels2.append(labels[idx])\n",
    "    else:\n",
    "        counter = 0\n",
    "        for i in range(idx):\n",
    "            counter += len(np.unique(labels[i]))\n",
    "        labels2.append(labels[idx] + counter)\n",
    "labels = labels2\n",
    "labels"
   ]
  },
  {
   "cell_type": "markdown",
   "metadata": {},
   "source": [
    "### FTE/BTE Experiment"
   ]
  },
  {
   "cell_type": "code",
   "execution_count": 5,
   "metadata": {},
   "outputs": [],
   "source": [
    "##### MAIN HYPERPARAMS ##################\n",
    "model = \"uf\"\n",
    "num_tasks = 5\n",
    "num_trees = 10\n",
    "num_points_per_task = 500 #5000 # per dataset\n",
    "reps = 5 #30\n",
    "#########################################"
   ]
  },
  {
   "cell_type": "markdown",
   "metadata": {},
   "source": [
    "#### Run Experiment"
   ]
  },
  {
   "cell_type": "code",
   "execution_count": 6,
   "metadata": {},
   "outputs": [],
   "source": [
    "x_data = data\n",
    "y_data = labels"
   ]
  },
  {
   "cell_type": "code",
   "execution_count": 7,
   "metadata": {},
   "outputs": [
    {
     "name": "stdout",
     "output_type": "stream",
     "text": [
      "Starting rep 0\n",
      "task 0\n",
      "task 1\n",
      "task 2\n",
      "task 3\n",
      "task 4\n",
      "Starting rep 1\n",
      "task 0\n",
      "task 1\n",
      "task 2\n",
      "task 3\n",
      "task 4\n",
      "Starting rep 2\n",
      "task 0\n",
      "task 1\n",
      "task 2\n",
      "task 3\n",
      "task 4\n",
      "Starting rep 3\n",
      "task 0\n",
      "task 1\n",
      "task 2\n",
      "task 3\n",
      "task 4\n",
      "Starting rep 4\n",
      "task 0\n",
      "task 1\n",
      "task 2\n",
      "task 3\n",
      "task 4\n"
     ]
    }
   ],
   "source": [
    "# initialize list for storing results\n",
    "accuracies_across_tasks = []\n",
    "\n",
    "# format data\n",
    "if model == 'dnn': # add dnn implementation in the future\n",
    "    x = x_data\n",
    "    y = y_data\n",
    "elif model == 'uf':\n",
    "    x = x_data #.reshape(len(x_data),-1)\n",
    "    y = y_data\n",
    "\n",
    "# get y values per task\n",
    "ys_by_task = [np.unique(i) for i in labels]\n",
    "\n",
    "# run experiment over all reps\n",
    "for rep in range(reps):\n",
    "    print('Starting rep', rep)\n",
    "    \n",
    "    train_x_task = []\n",
    "    train_y_task = []\n",
    "    test_x_task = []\n",
    "    test_y_task = []\n",
    "    \n",
    "    # sample num_points_per_task from each dataset\n",
    "    x_sample = []\n",
    "    y_sample = []\n",
    "    for dataset, label in zip(x, y):\n",
    "        sample = np.random.choice(len(dataset), num_points_per_task)\n",
    "        x_sample.append(dataset[sample])\n",
    "        y_sample.append(label[sample])\n",
    "    \n",
    "    # initialize overall learner\n",
    "    learner = LifelongClassificationForest(default_n_estimators=num_trees, default_max_depth=30)\n",
    "\n",
    "    # for each task\n",
    "    for task in range(num_tasks):\n",
    "        print('task', task)\n",
    "\n",
    "        # get train/test data \n",
    "        tr_x, te_x, tr_y, te_y = train_test_split(x_sample[task], y_sample[task], test_size=0.2)\n",
    "        train_x_task.append(tr_x)\n",
    "        train_y_task.append(tr_y)\n",
    "        test_x_task.append(te_x)\n",
    "        test_y_task.append(te_y)\n",
    "        \n",
    "        # predict on single task (UF learner) - CHANGE TO UNCERTAINTYFOREST LATERS\n",
    "        uf_learner = LifelongClassificationForest(default_n_estimators=num_trees, default_max_depth=30)\n",
    "        uf_learner.add_task(train_x_task[task], train_y_task[task])\n",
    "        uf_predictions = uf_learner.predict(test_x_task[task], task_id=0)\n",
    "        accuracies_across_tasks.append(np.mean(uf_predictions == test_y_task[task]))\n",
    "        \n",
    "        # feed to overall learner \n",
    "        learner.add_task(train_x_task[task], train_y_task[task])\n",
    "\n",
    "        # evaluate for other tasks\n",
    "        for other_task in range(num_tasks):\n",
    "\n",
    "            if other_task > task:\n",
    "                pass\n",
    "\n",
    "            else:\n",
    "                # predict on current task using other tasks\n",
    "                prev_task_predictions = learner.predict(test_x_task[other_task], task_id=other_task)\n",
    "                accuracies_across_tasks.append(np.mean(prev_task_predictions == test_y_task[other_task]))\n",
    "        \n",
    "# average results\n",
    "accuracy_all_task = np.array(accuracies_across_tasks).reshape((reps, -1))\n",
    "accuracy_all_task = np.mean(accuracy_all_task, axis = 0)"
   ]
  },
  {
   "cell_type": "code",
   "execution_count": 8,
   "metadata": {},
   "outputs": [
    {
     "data": {
      "text/plain": [
       "array([0.33 , 0.336, 0.24 , 0.34 , 0.258, 0.052, 0.338, 0.28 , 0.06 ,\n",
       "       0.018, 0.34 , 0.284, 0.054, 0.022, 0.102, 0.332, 0.258, 0.072,\n",
       "       0.028, 0.13 ])"
      ]
     },
     "execution_count": 8,
     "metadata": {},
     "output_type": "execute_result"
    }
   ],
   "source": [
    "accuracy_all_task"
   ]
  },
  {
   "cell_type": "code",
   "execution_count": 34,
   "metadata": {},
   "outputs": [],
   "source": [
    "# accuracy\n",
    "err = [[] for i in range(num_tasks)]\n",
    "for i in range(num_tasks):\n",
    "    for j in range(i, num_tasks):\n",
    "        err[i].append(1-accuracy_all_task[np.sum(list(range(1,j+2)))+i])\n",
    "\n",
    "# backwards transfer efficiency\n",
    "bte = [[] for i in range(num_tasks)]\n",
    "for i in range(num_tasks):\n",
    "    for j in range(i, num_tasks):\n",
    "        err_up_to_taskt = 1-accuracy_all_task[np.sum(list(range(1,i+2)))+i]\n",
    "        err_all_seen =    1-accuracy_all_task[np.sum(list(range(1,j+2)))+i]\n",
    "        bte[i].append(err_up_to_taskt/err_all_seen)\n",
    "\n",
    "# forwards transfer efficiency\n",
    "fte = [[] for i in range(num_tasks)]\n",
    "for i in range(num_tasks):\n",
    "    err_taskt_only =  1-accuracy_all_task[np.sum(list(range(1,i+2)))-1]\n",
    "    err_up_to_taskt = 1-accuracy_all_task[np.sum(list(range(1,i+2)))+i]\n",
    "    fte[i].append(err_taskt_only/err_up_to_taskt)\n",
    "\n",
    "# transfer efficiency\n",
    "te = [[] for i in range(num_tasks)]\n",
    "for i in range(num_tasks):\n",
    "    for j in range(i, num_tasks):\n",
    "        err_taskt_only =  1-accuracy_all_task[np.sum(list(range(1,i+2)))-1]\n",
    "        err_all_seen =    1-accuracy_all_task[np.sum(list(range(1,j+2)))+i]\n",
    "        te[i].append(err_taskt_only/err_all_seen)"
   ]
  },
  {
   "cell_type": "code",
   "execution_count": 35,
   "metadata": {},
   "outputs": [
    {
     "data": {
      "text/plain": [
       "[[1.0090361445783134],\n",
       " [1.0242587601078168],\n",
       " [1.0085106382978724],\n",
       " [1.0040899795501022],\n",
       " [1.0321839080459771]]"
      ]
     },
     "execution_count": 35,
     "metadata": {},
     "output_type": "execute_result"
    }
   ],
   "source": [
    "fte"
   ]
  },
  {
   "cell_type": "code",
   "execution_count": 36,
   "metadata": {},
   "outputs": [
    {
     "data": {
      "text/plain": [
       "[[1.0,\n",
       "  1.006060606060606,\n",
       "  1.0030211480362536,\n",
       "  1.0060606060606059,\n",
       "  0.9940119760479041],\n",
       " [1.0, 1.0305555555555557, 1.0363128491620113, 1.0],\n",
       " [1.0, 0.9936575052854123, 1.0129310344827585],\n",
       " [1.0, 1.0061728395061729],\n",
       " [1.0]]"
      ]
     },
     "execution_count": 36,
     "metadata": {},
     "output_type": "execute_result"
    }
   ],
   "source": [
    "bte"
   ]
  },
  {
   "cell_type": "code",
   "execution_count": 37,
   "metadata": {},
   "outputs": [
    {
     "data": {
      "text/plain": [
       "[[1.0090361445783134,\n",
       "  1.0151515151515151,\n",
       "  1.012084592145015,\n",
       "  1.015151515151515,\n",
       "  1.0029940119760479],\n",
       " [1.0242587601078168,\n",
       "  1.0555555555555556,\n",
       "  1.0614525139664805,\n",
       "  1.0242587601078168],\n",
       " [1.0085106382978724, 1.0021141649048626, 1.0215517241379308],\n",
       " [1.0040899795501022, 1.0102880658436215],\n",
       " [1.0321839080459771]]"
      ]
     },
     "execution_count": 37,
     "metadata": {},
     "output_type": "execute_result"
    }
   ],
   "source": [
    "te"
   ]
  },
  {
   "cell_type": "code",
   "execution_count": 38,
   "metadata": {},
   "outputs": [
    {
     "data": {
      "text/plain": [
       "[[0.6639999999999999, 0.6599999999999999, 0.662, 0.66, 0.6679999999999999],\n",
       " [0.742, 0.72, 0.716, 0.742],\n",
       " [0.94, 0.946, 0.928],\n",
       " [0.978, 0.972],\n",
       " [0.87]]"
      ]
     },
     "execution_count": 38,
     "metadata": {},
     "output_type": "execute_result"
    }
   ],
   "source": [
    "err"
   ]
  },
  {
   "cell_type": "code",
   "execution_count": 42,
   "metadata": {},
   "outputs": [
    {
     "data": {
      "image/png": "[encoded data removed]",
      "text/plain": [
       "<Figure size 1152x828 with 4 Axes>"
      ]
     },
     "metadata": {},
     "output_type": "display_data"
    }
   ],
   "source": [
    "# set figure parameters and plot results \n",
    "sns.set_style('ticks')\n",
    "clr = [\"#e41a1c\", \"#a65628\", \"#377eb8\", \"#4daf4a\", \"#984ea3\", \"#ff7f00\", \"#CCCC00\"]\n",
    "fontsize=32\n",
    "ticksize=32\n",
    "\n",
    "fig, ax = plt.subplots(2,2, figsize=(16,11.5))\n",
    "sns.despine()\n",
    "sns.color_palette(\"Set1\")\n",
    "\n",
    "ax[0][0].plot(np.arange(1,num_tasks+1), fte, c='red', marker='.', markersize=14, linewidth=3)\n",
    "ax[0][0].hlines(1, 1,num_tasks, colors='grey', linestyles='dashed',linewidth=1.5)\n",
    "ax[0][0].tick_params(labelsize=ticksize)\n",
    "ax[0][0].set_xlabel('Number of tasks seen', fontsize=fontsize)\n",
    "ax[0][0].set_ylabel('log Forward TE', fontsize=fontsize)\n",
    "ax[0][0].set_xticks(list(range(1, num_tasks+1)))\n",
    "ax[0][0].set_yticks([1,1.25,1.5])\n",
    "log_lbl = np.round(np.log([1,1.25,1.5]),2)\n",
    "labels = [item.get_text() for item in ax[0][0].get_yticklabels()]\n",
    "for ii,_ in enumerate(labels):\n",
    "    labels[ii] = str(log_lbl[ii])\n",
    "ax[0][0].set_yticklabels(labels)\n",
    "\n",
    "for i in range(num_tasks):\n",
    "    et = np.asarray(bte[i])\n",
    "    ns = np.arange(i + 1, num_tasks + 1)\n",
    "    ax[0][1].plot(ns, et, c='red', marker='.', markersize=14, linewidth=3)\n",
    "\n",
    "ax[0][1].set_xlabel('Number of tasks seen', fontsize=fontsize)\n",
    "ax[0][1].set_ylabel('log Backward TE', fontsize=fontsize)\n",
    "ax[0][1].tick_params(labelsize=ticksize)\n",
    "ax[0][1].hlines(1, 1,num_tasks, colors='grey', linestyles='dashed',linewidth=1.5)\n",
    "ax[0][1].set_xticks(list(range(1, num_tasks+1)))\n",
    "ax[0][1].set_yticks([1,1.25,1.5])\n",
    "log_lbl = np.round(np.log([1,1.25,1.5]),2)\n",
    "labels = [item.get_text() for item in ax[0][1].get_yticklabels()]\n",
    "for ii,_ in enumerate(labels):\n",
    "    labels[ii] = str(log_lbl[ii])\n",
    "ax[0][1].set_yticklabels(labels)\n",
    "\n",
    "for i in range(num_tasks):\n",
    "    et = np.asarray(te[i])\n",
    "    ns = np.arange(i + 1, num_tasks + 1)\n",
    "    ax[1][0].plot(ns, et, c='red', marker='.', markersize=14, linewidth=3)\n",
    "\n",
    "ax[1][0].set_xlabel('Number of tasks seen', fontsize=fontsize)\n",
    "ax[1][0].set_ylabel('log TE', fontsize=fontsize)\n",
    "#ax[1][0].set_xticks(np.arange(1,10))\n",
    "ax[1][0].tick_params(labelsize=ticksize)\n",
    "ax[1][0].hlines(1, 1,num_tasks, colors='grey', linestyles='dashed',linewidth=1.5)\n",
    "ax[1][0].set_xticks(list(range(1, num_tasks+1)))\n",
    "ax[1][0].set_yticks([1,1.25,1.5])\n",
    "log_lbl = np.round(np.log([1,1.25,1.5]),2)\n",
    "labels = [item.get_text() for item in ax[1][0].get_yticklabels()]\n",
    "for ii,_ in enumerate(labels):\n",
    "    labels[ii] = str(log_lbl[ii])\n",
    "ax[1][0].set_yticklabels(labels)\n",
    "\n",
    "for i in range(num_tasks):\n",
    "    et = np.asarray(err[i])\n",
    "    ns = np.arange(i + 1, num_tasks + 1)\n",
    "    ax[1][1].plot(ns, 1-et , c='red', marker='.', markersize=14, linewidth=3)\n",
    "\n",
    "ax[1][1].set_xlabel('Number of tasks seen', fontsize=fontsize)\n",
    "ax[1][1].set_ylabel('Accuracy', fontsize=fontsize)\n",
    "ax[1][1].tick_params(labelsize=ticksize)\n",
    "ax[1][1].set_xticks([1,2,3,4,5])\n",
    "ax[1][1].set_yticks([0, 0.05, 0.1, 0.15, 0.2, 0.25, 0.3, 0.35])\n",
    "\n",
    "#fig.suptitle(\"Transfer Efficiency Between MNIST and Fashion-MNIST\", fontsize=36)\n",
    "plt.tight_layout()"
   ]
  },
  {
   "cell_type": "markdown",
   "metadata": {},
   "source": [
    "## Recruitment Experiment"
   ]
  },
  {
   "cell_type": "code",
   "execution_count": 6,
   "metadata": {},
   "outputs": [],
   "source": [
    "x_data = data\n",
    "y_data = labels"
   ]
  },
  {
   "cell_type": "code",
   "execution_count": 7,
   "metadata": {},
   "outputs": [],
   "source": [
    "class PosteriorsByTreeLearner(ClassificationProgressiveLearner):\n",
    "    \"\"\"\n",
    "    Variation on the progressive learner class ClassificationProgressiveLearner\n",
    "    to allow for return of posterior probabilities by tree.\n",
    "    \"\"\"\n",
    "\n",
    "    def predict_proba(self, X, task_id, transformer_ids=None):\n",
    "        \"\"\"\n",
    "        Calls predict_proba_tree for the decider class. Works in conjunction with\n",
    "        class PosteriorsByTree.\n",
    "        \"\"\"\n",
    "        decider = self.task_id_to_decider[task_id]\n",
    "        return self.task_id_to_decider[task_id].predict_proba_tree(\n",
    "            X, transformer_ids=transformer_ids\n",
    "        )"
   ]
  },
  {
   "cell_type": "code",
   "execution_count": 8,
   "metadata": {},
   "outputs": [],
   "source": [
    "class PosteriorsByTree(SimpleArgmaxAverage):\n",
    "    \"\"\"Variation on the decider class SimpleArgmaxAverage to allow for return of\n",
    "    posterior probabilities by tree.\n",
    "    \"\"\"\n",
    "\n",
    "    def predict_proba_tree(self, X, transformer_ids=None):\n",
    "        \"\"\"\n",
    "        Predicts posterior probabilities by tree.\n",
    "        Returns array of dimension (num_transformers*len(transformer_ids))\n",
    "        containing posterior probabilities.\n",
    "        \"\"\"\n",
    "        vote_per_alltrees = []\n",
    "        for transformer_id in (\n",
    "            transformer_ids\n",
    "            if transformer_ids is not None\n",
    "            else self.transformer_id_to_voters_.keys()\n",
    "        ):\n",
    "            for bag_id in range(\n",
    "                len(self.transformer_id_to_transformers_[transformer_id])\n",
    "            ):\n",
    "                transformer = self.transformer_id_to_transformers_[transformer_id][\n",
    "                    bag_id\n",
    "                ]\n",
    "                X_transformed = transformer.transform(X)\n",
    "                voter = self.transformer_id_to_voters_[transformer_id][bag_id]\n",
    "                vote = voter.predict_proba(X_transformed)\n",
    "                vote_per_alltrees.append(vote)\n",
    "        return vote_per_alltrees"
   ]
  },
  {
   "cell_type": "code",
   "execution_count": 125,
   "metadata": {},
   "outputs": [],
   "source": [
    "############################\n",
    "### Main hyperparameters ###\n",
    "############################\n",
    "num_trees = 10\n",
    "num_tasks = 5\n",
    "reps = 1\n",
    "estimation_set = 0.63\n",
    "train_points_per_task = 4000\n",
    "test_points_per_task = 400\n",
    "last_task_sample = 10*np.array([10, 25, 50, 100, 200, 400])"
   ]
  },
  {
   "cell_type": "code",
   "execution_count": 123,
   "metadata": {},
   "outputs": [],
   "source": [
    "x = data\n",
    "y = labels"
   ]
  },
  {
   "cell_type": "code",
   "execution_count": 126,
   "metadata": {},
   "outputs": [
    {
     "name": "stdout",
     "output_type": "stream",
     "text": [
      "doing 100 samples for 0 th rep\n",
      "0.9425\n",
      "0.9425\n",
      "0.9775\n",
      "0.9825\n",
      "doing 250 samples for 0 th rep\n"
     ]
    },
    {
     "name": "stderr",
     "output_type": "stream",
     "text": [
      "/home/echang39/.local/lib/python3.7/site-packages/numpy/core/_methods.py:217: RuntimeWarning: Degrees of freedom <= 0 for slice\n",
      "  keepdims=keepdims)\n",
      "/home/echang39/.local/lib/python3.7/site-packages/numpy/core/_methods.py:209: RuntimeWarning: invalid value encountered in double_scalars\n",
      "  ret = ret.dtype.type(ret / rcount)\n"
     ]
    },
    {
     "name": "stdout",
     "output_type": "stream",
     "text": [
      "0.915\n",
      "0.905\n",
      "0.9625\n",
      "0.96\n",
      "doing 500 samples for 0 th rep\n"
     ]
    },
    {
     "name": "stderr",
     "output_type": "stream",
     "text": [
      "/home/echang39/.local/lib/python3.7/site-packages/numpy/core/_methods.py:217: RuntimeWarning: Degrees of freedom <= 0 for slice\n",
      "  keepdims=keepdims)\n",
      "/home/echang39/.local/lib/python3.7/site-packages/numpy/core/_methods.py:209: RuntimeWarning: invalid value encountered in double_scalars\n",
      "  ret = ret.dtype.type(ret / rcount)\n"
     ]
    },
    {
     "name": "stdout",
     "output_type": "stream",
     "text": [
      "0.87\n",
      "0.88\n",
      "0.86\n",
      "0.8725\n",
      "doing 1000 samples for 0 th rep\n"
     ]
    },
    {
     "name": "stderr",
     "output_type": "stream",
     "text": [
      "/home/echang39/.local/lib/python3.7/site-packages/numpy/core/_methods.py:217: RuntimeWarning: Degrees of freedom <= 0 for slice\n",
      "  keepdims=keepdims)\n",
      "/home/echang39/.local/lib/python3.7/site-packages/numpy/core/_methods.py:209: RuntimeWarning: invalid value encountered in double_scalars\n",
      "  ret = ret.dtype.type(ret / rcount)\n"
     ]
    },
    {
     "name": "stdout",
     "output_type": "stream",
     "text": [
      "0.8075\n",
      "0.8575\n",
      "0.8075\n",
      "0.7975\n",
      "doing 2000 samples for 0 th rep\n"
     ]
    },
    {
     "name": "stderr",
     "output_type": "stream",
     "text": [
      "/home/echang39/.local/lib/python3.7/site-packages/numpy/core/_methods.py:217: RuntimeWarning: Degrees of freedom <= 0 for slice\n",
      "  keepdims=keepdims)\n",
      "/home/echang39/.local/lib/python3.7/site-packages/numpy/core/_methods.py:209: RuntimeWarning: invalid value encountered in double_scalars\n",
      "  ret = ret.dtype.type(ret / rcount)\n"
     ]
    },
    {
     "name": "stdout",
     "output_type": "stream",
     "text": [
      "0.725\n",
      "0.7375\n",
      "0.7275\n",
      "0.72\n",
      "doing 4000 samples for 0 th rep\n"
     ]
    },
    {
     "name": "stderr",
     "output_type": "stream",
     "text": [
      "/home/echang39/.local/lib/python3.7/site-packages/numpy/core/_methods.py:217: RuntimeWarning: Degrees of freedom <= 0 for slice\n",
      "  keepdims=keepdims)\n",
      "/home/echang39/.local/lib/python3.7/site-packages/numpy/core/_methods.py:209: RuntimeWarning: invalid value encountered in double_scalars\n",
      "  ret = ret.dtype.type(ret / rcount)\n"
     ]
    },
    {
     "name": "stdout",
     "output_type": "stream",
     "text": [
      "0.56\n",
      "0.585\n",
      "0.5575\n",
      "0.5575\n"
     ]
    },
    {
     "name": "stderr",
     "output_type": "stream",
     "text": [
      "/home/echang39/.local/lib/python3.7/site-packages/numpy/core/_methods.py:217: RuntimeWarning: Degrees of freedom <= 0 for slice\n",
      "  keepdims=keepdims)\n",
      "/home/echang39/.local/lib/python3.7/site-packages/numpy/core/_methods.py:209: RuntimeWarning: invalid value encountered in double_scalars\n",
      "  ret = ret.dtype.type(ret / rcount)\n"
     ]
    }
   ],
   "source": [
    "# def experiment_mnist(\n",
    "#     x,\n",
    "#     y,\n",
    "#     num_trees,\n",
    "#     num_tasks,\n",
    "#     reps,\n",
    "#     estimation_set,\n",
    "#     train_points_per_task,\n",
    "#     test_points_per_task,\n",
    "#     last_task_sample,\n",
    "# ):\n",
    "#     \"\"\"\n",
    "#     Run the recruitment experiment.\n",
    "#     Generalized for MNIST datasets and different task numbers.\n",
    "#     \"\"\"\n",
    "\n",
    "# create matrices for storing values\n",
    "hybrid = np.zeros(reps, dtype=float)\n",
    "building = np.zeros(reps, dtype=float)\n",
    "recruiting = np.zeros(reps, dtype=float)\n",
    "uf = np.zeros(reps, dtype=float)\n",
    "mean_accuracy_dict = {\"building\": [], \"UF\": [], \"recruiting\": [], \"hybrid\": []}\n",
    "std_accuracy_dict = {\"building\": [], \"UF\": [], \"recruiting\": [], \"hybrid\": []}\n",
    "\n",
    "# get y values and number labels per task\n",
    "ys_by_task = [np.unique(i) for i in labels]\n",
    "num_labels_by_task = [len(ys) for ys in ys_by_task]\n",
    "\n",
    "# iterate over all sample sizes ns\n",
    "for ns in last_task_sample:\n",
    "\n",
    "    # size of estimation and validation sample sets\n",
    "    estimation_sample_no = int(np.ceil(estimation_set * ns))\n",
    "    validation_sample_no = ns - estimation_sample_no\n",
    "\n",
    "    # repeat `rep` times\n",
    "    for rep in range(reps):\n",
    "        print(\"doing {} samples for {} th rep\".format(ns,rep))\n",
    "        \n",
    "        ####### PREP DATA ##################################\n",
    "        \n",
    "        train_x_task = []\n",
    "        train_y_task = []\n",
    "        test_x_task = []\n",
    "        test_y_task = []\n",
    "\n",
    "        # sample [train+test]_points_per_task from each dataset\n",
    "        for dataset, label in zip(x, y):\n",
    "            sample = np.random.choice(len(dataset), train_points_per_task+test_points_per_task)\n",
    "\n",
    "            # get train/test data \n",
    "            tr_x, te_x, tr_y, te_y = train_test_split(dataset[sample], label[sample], \n",
    "                                                      test_size=test_points_per_task/(train_points_per_task+test_points_per_task))\n",
    "            train_x_task.append(tr_x)\n",
    "            train_y_task.append(tr_y)\n",
    "            test_x_task.append(te_x)\n",
    "            test_y_task.append(te_y)\n",
    "\n",
    "        ####################################################\n",
    "        \n",
    "\n",
    "        # initiate lifelong learner\n",
    "        l2f = PosteriorsByTreeLearner(\n",
    "            default_transformer_class=TreeClassificationTransformer,\n",
    "            default_transformer_kwargs={},\n",
    "            default_voter_class=TreeClassificationVoter,\n",
    "            default_voter_kwargs={},\n",
    "            default_decider_class=PosteriorsByTree,\n",
    "            default_decider_kwargs={},\n",
    "        )\n",
    "\n",
    "        # train l2f on first tasks\n",
    "        for task in range(num_tasks - 1):\n",
    "            \n",
    "            cur_X = train_x_task[task]\n",
    "            cur_y = train_y_task[task]\n",
    "            \n",
    "            l2f.add_task(\n",
    "                cur_X,\n",
    "                cur_y,\n",
    "                num_transformers=num_trees,\n",
    "                transformer_kwargs={\"kwargs\":{\"max_depth\": 30}},\n",
    "                voter_kwargs={\"classes\": np.unique(cur_y)},\n",
    "                decider_kwargs={\"classes\": np.unique(cur_y)},\n",
    "            )\n",
    "\n",
    "        # train l2f on last task\n",
    "        cur_X = train_x_task[num_tasks - 1][:estimation_sample_no]\n",
    "        cur_y = train_y_task[num_tasks - 1][:estimation_sample_no]\n",
    "\n",
    "        l2f.add_task(\n",
    "            cur_X,\n",
    "            cur_y,\n",
    "            num_transformers=num_trees,\n",
    "            transformer_kwargs={\"kwargs\":{\"max_depth\": 30}},\n",
    "            voter_kwargs={\"classes\": np.unique(cur_y)},\n",
    "            decider_kwargs={\"classes\": np.unique(cur_y)},\n",
    "        )\n",
    "\n",
    "        ## L2F validation ####################################\n",
    "        # get posteriors for l2f on first 9 tasks\n",
    "        # want posteriors_across_trees to have shape ((num_tasks-1)*num_trees, validation_sample_no, 10)\n",
    "        posteriors_across_trees = l2f.predict_proba(\n",
    "            train_x_task[num_tasks - 1][estimation_sample_no:],\n",
    "            task_id=num_tasks - 1,\n",
    "            transformer_ids=list(range(num_tasks - 1)),\n",
    "        )\n",
    "        # compare error in each tree and choose best 25/50 trees\n",
    "        error_across_trees = np.zeros((num_tasks - 1) * num_trees)\n",
    "        validation_target = train_y_task[num_tasks - 1][estimation_sample_no:]\n",
    "        for tree in range(len(posteriors_across_trees)):\n",
    "            res = np.argmax(\n",
    "                posteriors_across_trees[tree], axis=1\n",
    "            ) + sum(num_labels_by_task[:num_tasks-1])\n",
    "            error_across_trees[tree] = 1 - np.mean(validation_target == res)\n",
    "        best_50_tree = np.argsort(error_across_trees)[:50]\n",
    "        best_25_tree = best_50_tree[:25]\n",
    "\n",
    "        ## uf trees validation ###############################\n",
    "        # get posteriors for l2f on only the 10th task\n",
    "        posteriors_across_trees = l2f.predict_proba(\n",
    "            train_x_task[num_tasks - 1][estimation_sample_no:],\n",
    "            task_id=num_tasks - 1,\n",
    "            transformer_ids=[num_tasks - 1],\n",
    "        )\n",
    "        # compare error in each tree and choose best 25 trees\n",
    "        error_across_trees = np.zeros(num_trees)\n",
    "        validation_target = train_y_task[num_tasks - 1][estimation_sample_no:]\n",
    "        for tree in range(num_trees):\n",
    "            res = np.argmax(\n",
    "                posteriors_across_trees[tree], axis=1\n",
    "            ) + sum(num_labels_by_task[:num_tasks-1])\n",
    "            error_across_trees[tree] = 1 - np.mean(validation_target == res)\n",
    "        best_25_uf_tree = np.argsort(error_across_trees)[:25]\n",
    "\n",
    "        ## evaluation ########################################\n",
    "        # train 10th tree under each scenario: building, recruiting, hybrid, UF\n",
    "        # BUILDING\n",
    "        building_res = l2f.predict(\n",
    "            test_x_task[num_tasks - 1], task_id=num_tasks - 1\n",
    "        )\n",
    "        building[rep] = 1 - np.mean(test_y_task[num_tasks - 1] == building_res)\n",
    "        # UF\n",
    "        uf_res = l2f.predict(\n",
    "            test_x_task[num_tasks - 1],\n",
    "            task_id=num_tasks - 1,\n",
    "            transformer_ids=[num_tasks - 1],\n",
    "        )\n",
    "        uf[rep] = 1 - np.mean(test_y_task[num_tasks - 1] == uf_res)\n",
    "        # RECRUITING\n",
    "        posteriors_across_trees = l2f.predict_proba(\n",
    "            test_x_task[num_tasks - 1],\n",
    "            task_id=num_tasks - 1,\n",
    "            transformer_ids=list(range(num_tasks - 1)),\n",
    "        )\n",
    "        recruiting_posterior = np.mean(\n",
    "            np.array(posteriors_across_trees)[best_50_tree], axis=0\n",
    "        )\n",
    "        res = np.argmax(recruiting_posterior, axis=1) + sum(num_labels_by_task[:num_tasks-1])\n",
    "        recruiting[rep] = 1 - np.mean(test_y_task[num_tasks - 1] == res)\n",
    "        # HYBRID\n",
    "        posteriors_across_trees_hybrid_uf = l2f.predict_proba(\n",
    "            test_x_task[num_tasks - 1],\n",
    "            task_id=num_tasks - 1,\n",
    "            transformer_ids=[num_tasks - 1],\n",
    "        )\n",
    "        hybrid_posterior_all = np.concatenate(\n",
    "            (\n",
    "                np.array(posteriors_across_trees)[best_25_tree],\n",
    "                np.array(posteriors_across_trees_hybrid_uf)[best_25_uf_tree],\n",
    "            ),\n",
    "            axis=0,\n",
    "        )\n",
    "        hybrid_posterior = np.mean(hybrid_posterior_all, axis=0)\n",
    "        hybrid_res = np.argmax(hybrid_posterior, axis=1) + sum(num_labels_by_task[:num_tasks-1])\n",
    "        hybrid[rep] = 1 - np.mean(test_y_task[num_tasks - 1] == hybrid_res)\n",
    "\n",
    "    # print statements\n",
    "    print(np.mean(building))\n",
    "    print(np.mean(uf))\n",
    "    print(np.mean(recruiting))\n",
    "    print(np.mean(hybrid))\n",
    "\n",
    "    # calculate mean and stdev for each\n",
    "    mean_accuracy_dict[\"building\"].append(np.mean(building))\n",
    "    std_accuracy_dict[\"building\"].append(np.std(building, ddof=1))\n",
    "    mean_accuracy_dict[\"UF\"].append(np.mean(uf))\n",
    "    std_accuracy_dict[\"UF\"].append(np.std(uf, ddof=1))\n",
    "    mean_accuracy_dict[\"recruiting\"].append(np.mean(recruiting))\n",
    "    std_accuracy_dict[\"recruiting\"].append(np.std(recruiting, ddof=1))\n",
    "    mean_accuracy_dict[\"hybrid\"].append(np.mean(hybrid))\n",
    "    std_accuracy_dict[\"hybrid\"].append(np.std(hybrid, ddof=1))\n",
    "    \n",
    "#     return mean_accuracy_dict, std_accuracy_dict"
   ]
  },
  {
   "cell_type": "markdown",
   "metadata": {},
   "source": [
    "### Plot Results"
   ]
  },
  {
   "cell_type": "code",
   "execution_count": 127,
   "metadata": {},
   "outputs": [
    {
     "data": {
      "text/plain": [
       "{'building': [0.9425, 0.915, 0.87, 0.8075, 0.725, 0.56],\n",
       " 'UF': [0.9425, 0.905, 0.88, 0.8575, 0.7375, 0.585],\n",
       " 'recruiting': [0.9775, 0.9625, 0.86, 0.8075, 0.7275, 0.5575],\n",
       " 'hybrid': [0.9825, 0.96, 0.8725, 0.7975, 0.72, 0.5575]}"
      ]
     },
     "execution_count": 127,
     "metadata": {},
     "output_type": "execute_result"
    }
   ],
   "source": [
    "mean_accuracy_dict"
   ]
  },
  {
   "cell_type": "code",
   "execution_count": 128,
   "metadata": {},
   "outputs": [
    {
     "data": {
      "text/plain": [
       "{'building': [nan, nan, nan, nan, nan, nan],\n",
       " 'UF': [nan, nan, nan, nan, nan, nan],\n",
       " 'recruiting': [nan, nan, nan, nan, nan, nan],\n",
       " 'hybrid': [nan, nan, nan, nan, nan, nan]}"
      ]
     },
     "execution_count": 128,
     "metadata": {},
     "output_type": "execute_result"
    }
   ],
   "source": [
    "std_accuracy_dict"
   ]
  },
  {
   "cell_type": "code",
   "execution_count": 137,
   "metadata": {},
   "outputs": [],
   "source": [
    "def recruitment_plot(mean_acc_dict, std_acc_dict, last_task_sample, num_tasks):\n",
    "    \"\"\"\n",
    "    Plot the results from the recruitment experiment.\n",
    "    \"\"\"\n",
    "    # determine colors and labels for figure\n",
    "    colors = sns.color_palette(\"Set1\", n_colors=len(mean_acc_dict))\n",
    "    labels = [\"L2F (building)\", \"UF (new)\", \"recruiting\", \"hybrid\"]\n",
    "\n",
    "    # plot and format figure\n",
    "    fig, ax = plt.subplots(1, 1, figsize=(8, 8))\n",
    "    for i, key in enumerate(mean_acc_dict):\n",
    "        ax.plot(last_task_sample, mean_acc_dict[key], c=colors[i], label=labels[i])\n",
    "        upper_bound = np.array(mean_acc_dict[key]) + 1.96 * np.array(std_acc_dict[key])\n",
    "        lower_bound = np.array(mean_acc_dict[key]) - 1.96 * np.array(std_acc_dict[key])\n",
    "        ax.fill_between(\n",
    "            last_task_sample,\n",
    "            upper_bound,\n",
    "            lower_bound,\n",
    "            where=upper_bound >= lower_bound,\n",
    "            facecolor=colors[i],\n",
    "            alpha=0.15,\n",
    "            interpolate=False,\n",
    "        )\n",
    "    ax.set_title(\"Recruitment Across Datasets\", fontsize=30)\n",
    "    ax.set_ylabel(\"Generalization Error (Task %d)\" % num_tasks, fontsize=28)\n",
    "    ax.set_xlabel(\"Number of Task %d Samples\" % num_tasks, fontsize=30)\n",
    "    ax.tick_params(labelsize=28)\n",
    "    ax.set_xscale(\"log\")\n",
    "    ax.set_xticks([100, 250, 500, 1000, 2000, 4000])\n",
    "    ax.get_xaxis().set_major_formatter(ScalarFormatter())\n",
    "    ax.minorticks_off()\n",
    "    ax.set_ylim(0.8, 1.0)\n",
    "    ax.set_yticks([0.5, 0.6, 0.7, 0.8, 0.9, 1.00])\n",
    "    ax.legend(fontsize=12)\n",
    "    right_side = ax.spines[\"right\"]\n",
    "    right_side.set_visible(False)\n",
    "    top_side = ax.spines[\"top\"]\n",
    "    top_side.set_visible(False)\n",
    "    plt.tight_layout()"
   ]
  },
  {
   "cell_type": "code",
   "execution_count": 138,
   "metadata": {},
   "outputs": [
    {
     "name": "stderr",
     "output_type": "stream",
     "text": [
      "/usr/local/lib/python3.7/site-packages/ipykernel_launcher.py:19: RuntimeWarning: invalid value encountered in greater_equal\n",
      "/usr/local/lib/python3.7/site-packages/ipykernel_launcher.py:19: RuntimeWarning: invalid value encountered in greater_equal\n",
      "/usr/local/lib/python3.7/site-packages/ipykernel_launcher.py:19: RuntimeWarning: invalid value encountered in greater_equal\n",
      "/usr/local/lib/python3.7/site-packages/ipykernel_launcher.py:19: RuntimeWarning: invalid value encountered in greater_equal\n"
     ]
    },
    {
     "data": {
      "image/png": "[encoded data removed]",
      "text/plain": [
       "<Figure size 576x576 with 1 Axes>"
      ]
     },
     "metadata": {
      "needs_background": "light"
     },
     "output_type": "display_data"
    }
   ],
   "source": [
    "recruitment_plot(mean_accuracy_dict, std_accuracy_dict, last_task_sample, num_tasks)"
   ]
  },
  {
   "cell_type": "code",
   "execution_count": null,
   "metadata": {},
   "outputs": [],
   "source": []
  }
 ],
 "metadata": {
  "kernelspec": {
   "display_name": "Python 3",
   "language": "python",
   "name": "python3"
  },
  "language_info": {
   "codemirror_mode": {
    "name": "ipython",
    "version": 3
   },
   "file_extension": ".py",
   "mimetype": "text/x-python",
   "name": "python",
   "nbconvert_exporter": "python",
   "pygments_lexer": "ipython3",
   "version": "3.7.0"
  }
 },
 "nbformat": 4,
 "nbformat_minor": 4
}

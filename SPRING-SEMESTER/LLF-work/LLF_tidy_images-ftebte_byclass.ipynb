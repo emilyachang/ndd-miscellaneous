{
 "cells": [
  {
   "cell_type": "markdown",
   "metadata": {},
   "source": [
    "# LLF_tidy_images - Extended Recruitment Experiment"
   ]
  },
  {
   "cell_type": "code",
   "execution_count": 2,
   "metadata": {},
   "outputs": [],
   "source": [
    "import numpy as np\n",
    "import pandas as pd\n",
    "import matplotlib.pyplot as plt\n",
    "import seaborn as sns\n",
    "\n",
    "import os\n",
    "\n",
    "from proglearn.forest import LifelongClassificationForest\n",
    "from sklearn.model_selection import train_test_split"
   ]
  },
  {
   "cell_type": "markdown",
   "metadata": {},
   "source": [
    "## FTE/BTE Experiment"
   ]
  },
  {
   "cell_type": "markdown",
   "metadata": {},
   "source": [
    "### Check Imports"
   ]
  },
  {
   "cell_type": "code",
   "execution_count": 2,
   "metadata": {},
   "outputs": [
    {
     "name": "stdout",
     "output_type": "stream",
     "text": [
      "(32, 32, 3)\n",
      "34000\n"
     ]
    }
   ],
   "source": [
    "dataset_name = \"food_101_array_data_x_1\"\n",
    "load = np.load(dataset_name + '.npz')\n",
    "\n",
    "print(load['arr_0'][0].shape)\n",
    "print(len(load['arr_0']))"
   ]
  },
  {
   "cell_type": "code",
   "execution_count": 3,
   "metadata": {},
   "outputs": [
    {
     "name": "stdout",
     "output_type": "stream",
     "text": [
      "(32, 32, 3)\n",
      "4800\n"
     ]
    }
   ],
   "source": [
    "dataset_name = \"dtd_array_data_x\"\n",
    "load = np.load(dataset_name + '.npz')\n",
    "\n",
    "print(load['arr_0'][0].shape)\n",
    "print(len(load['arr_0']))"
   ]
  },
  {
   "cell_type": "code",
   "execution_count": 4,
   "metadata": {},
   "outputs": [
    {
     "name": "stdout",
     "output_type": "stream",
     "text": [
      "(32, 32, 3)\n",
      "9144\n",
      "9144\n"
     ]
    }
   ],
   "source": [
    "dataset_name = '101_ObjectCategories'\n",
    "load = np.load(dataset_name + '.npz')\n",
    "\n",
    "print(load['imgs'][0].shape)\n",
    "print(len(load['imgs']))\n",
    "print(len(load['lbls']))"
   ]
  },
  {
   "cell_type": "code",
   "execution_count": 5,
   "metadata": {
    "scrolled": true
   },
   "outputs": [
    {
     "data": {
      "text/plain": [
       "16    800\n",
       "79    798\n",
       "91    467\n",
       "44    435\n",
       "95    435\n",
       "     ... \n",
       "39     34\n",
       "71     34\n",
       "74     33\n",
       "98     32\n",
       "96     31\n",
       "Length: 102, dtype: int64"
      ]
     },
     "execution_count": 5,
     "metadata": {},
     "output_type": "execute_result"
    }
   ],
   "source": [
    "labels = pd.Index(load['lbls'])\n",
    "labels.value_counts()"
   ]
  },
  {
   "cell_type": "code",
   "execution_count": 6,
   "metadata": {},
   "outputs": [
    {
     "data": {
      "text/plain": [
       "16    800\n",
       "79    798\n",
       "91    467\n",
       "44    435\n",
       "95    435\n",
       "     ... \n",
       "69     52\n",
       "8      51\n",
       "33     51\n",
       "42     50\n",
       "68     50\n",
       "Length: 68, dtype: int64"
      ]
     },
     "execution_count": 6,
     "metadata": {},
     "output_type": "execute_result"
    }
   ],
   "source": [
    "labels.value_counts()[labels.value_counts()>=50]"
   ]
  },
  {
   "cell_type": "markdown",
   "metadata": {},
   "source": [
    "### Preprocess Data"
   ]
  },
  {
   "cell_type": "code",
   "execution_count": 3,
   "metadata": {},
   "outputs": [
    {
     "data": {
      "text/plain": [
       "[array([  0,   0,   0, ..., 101, 101, 101], dtype=uint16),\n",
       " array([6, 9, 9, ..., 5, 1, 7], dtype=uint16),\n",
       " array([19, 29,  0, ..., 51, 42, 70], dtype=uint16),\n",
       " array([ 0,  0,  0, ..., 99, 99, 99], dtype=uint16),\n",
       " array([ 0,  0,  0, ..., 39, 39, 39], dtype=uint16)]"
      ]
     },
     "execution_count": 3,
     "metadata": {},
     "output_type": "execute_result"
    }
   ],
   "source": [
    "data = []\n",
    "labels = []\n",
    "\n",
    "# import datasets that emily preprocessed\n",
    "for set1 in ['101_ObjectCategories', 'CIFAR_10', 'CIFAR_100']:\n",
    "    # load from npz\n",
    "    load = np.load(set1 + '.npz')\n",
    "    # reformat and append\n",
    "    data.append(load['imgs'].reshape(len(load['imgs']), -1).astype(np.uint8))\n",
    "    labels.append(load['lbls'].astype(np.uint16))\n",
    "\n",
    "# import datasets that rahul preprocessed\n",
    "food_101 = np.empty((0,32*32*3), np.uint8)\n",
    "for set2 in ['food_101_array_data_x_1', 'food_101_array_data_x_2', 'food_101_array_data_x_3']:\n",
    "    # load from npz\n",
    "    load = np.load(set2 + '.npz')\n",
    "    # reformat and append\n",
    "    food_101 = np.vstack((food_101,load['arr_0'].reshape(len(load['arr_0']), -1).astype(np.uint8)))\n",
    "data.append(food_101)\n",
    "labels.append(np.concatenate([([i]*1000) for i in list(range(100))], axis=0).astype(np.uint16))\n",
    "# load from npz\n",
    "load = np.load('dtd_array_data_x.npz')\n",
    "# reformat and append\n",
    "data.append(load['arr_0'].reshape(len(load['arr_0']), -1).astype(np.uint8))\n",
    "labels.append(np.concatenate([([i]*120) for i in list(range(40))], axis=0).astype(np.uint16))\n",
    "labels"
   ]
  },
  {
   "cell_type": "code",
   "execution_count": 4,
   "metadata": {
    "scrolled": true
   },
   "outputs": [
    {
     "data": {
      "text/plain": [
       "[array([  0,   0,   0, ..., 101, 101, 101], dtype=uint16),\n",
       " array([108, 111, 111, ..., 107, 103, 109], dtype=uint16),\n",
       " array([131, 141, 112, ..., 163, 154, 182], dtype=uint16),\n",
       " array([212, 212, 212, ..., 311, 311, 311], dtype=uint16),\n",
       " array([312, 312, 312, ..., 351, 351, 351], dtype=uint16)]"
      ]
     },
     "execution_count": 4,
     "metadata": {},
     "output_type": "execute_result"
    }
   ],
   "source": [
    "# modify labels\n",
    "labels2 = []\n",
    "for idx, lbl_set in enumerate(labels):\n",
    "    if idx == 0:\n",
    "        labels2.append(labels[idx])\n",
    "    else:\n",
    "        counter = 0\n",
    "        for i in range(idx):\n",
    "            counter += len(np.unique(labels[i]))\n",
    "        labels2.append(labels[idx] + counter)\n",
    "labels = labels2\n",
    "labels"
   ]
  },
  {
   "cell_type": "code",
   "execution_count": 5,
   "metadata": {},
   "outputs": [],
   "source": [
    "np.savez_compressed('GROUPED_DATA', imgs=data, lbls=labels)"
   ]
  },
  {
   "cell_type": "markdown",
   "metadata": {},
   "source": [
    "### Reimport Data"
   ]
  },
  {
   "cell_type": "code",
   "execution_count": 3,
   "metadata": {},
   "outputs": [],
   "source": [
    "load = np.load('GROUPED_DATA.npz', allow_pickle=True)\n",
    "data = load['imgs']\n",
    "labels = load['lbls']"
   ]
  },
  {
   "cell_type": "markdown",
   "metadata": {},
   "source": [
    "### FTE/BTE Experiment"
   ]
  },
  {
   "cell_type": "code",
   "execution_count": 4,
   "metadata": {},
   "outputs": [],
   "source": [
    "##### MAIN HYPERPARAMS ##################\n",
    "model = \"uf\"\n",
    "num_tasks = 5\n",
    "num_trees = 10\n",
    "#num_points_per_task = 500 #5000 # per dataset\n",
    "reps = 30\n",
    "#########################################"
   ]
  },
  {
   "cell_type": "markdown",
   "metadata": {},
   "source": [
    "#### Run Experiment"
   ]
  },
  {
   "cell_type": "code",
   "execution_count": 5,
   "metadata": {},
   "outputs": [],
   "source": [
    "x_data = data\n",
    "y_data = labels"
   ]
  },
  {
   "cell_type": "code",
   "execution_count": 7,
   "metadata": {},
   "outputs": [
    {
     "name": "stdout",
     "output_type": "stream",
     "text": [
      "Starting rep 0\n",
      "task 0\n",
      "task 1\n",
      "task 2\n",
      "task 3\n",
      "task 4\n",
      "Starting rep 1\n",
      "task 0\n",
      "task 1\n",
      "task 2\n",
      "task 3\n",
      "task 4\n",
      "Starting rep 2\n",
      "task 0\n",
      "task 1\n",
      "task 2\n",
      "task 3\n",
      "task 4\n",
      "Starting rep 3\n",
      "task 0\n",
      "task 1\n",
      "task 2\n",
      "task 3\n",
      "task 4\n",
      "Starting rep 4\n",
      "task 0\n",
      "task 1\n",
      "task 2\n",
      "task 3\n",
      "task 4\n",
      "Starting rep 5\n",
      "task 0\n",
      "task 1\n",
      "task 2\n",
      "task 3\n",
      "task 4\n",
      "Starting rep 6\n",
      "task 0\n",
      "task 1\n",
      "task 2\n",
      "task 3\n",
      "task 4\n",
      "Starting rep 7\n",
      "task 0\n",
      "task 1\n",
      "task 2\n",
      "task 3\n",
      "task 4\n",
      "Starting rep 8\n",
      "task 0\n",
      "task 1\n",
      "task 2\n",
      "task 3\n",
      "task 4\n",
      "Starting rep 9\n",
      "task 0\n",
      "task 1\n",
      "task 2\n",
      "task 3\n",
      "task 4\n",
      "Starting rep 10\n",
      "task 0\n",
      "task 1\n",
      "task 2\n",
      "task 3\n",
      "task 4\n",
      "Starting rep 11\n",
      "task 0\n",
      "task 1\n",
      "task 2\n",
      "task 3\n",
      "task 4\n",
      "Starting rep 12\n",
      "task 0\n",
      "task 1\n",
      "task 2\n",
      "task 3\n",
      "task 4\n",
      "Starting rep 13\n",
      "task 0\n",
      "task 1\n",
      "task 2\n",
      "task 3\n",
      "task 4\n",
      "Starting rep 14\n",
      "task 0\n",
      "task 1\n",
      "task 2\n",
      "task 3\n",
      "task 4\n",
      "Starting rep 15\n",
      "task 0\n",
      "task 1\n",
      "task 2\n",
      "task 3\n",
      "task 4\n",
      "Starting rep 16\n",
      "task 0\n",
      "task 1\n",
      "task 2\n",
      "task 3\n",
      "task 4\n",
      "Starting rep 17\n",
      "task 0\n",
      "task 1\n",
      "task 2\n",
      "task 3\n",
      "task 4\n",
      "Starting rep 18\n",
      "task 0\n",
      "task 1\n",
      "task 2\n",
      "task 3\n",
      "task 4\n",
      "Starting rep 19\n",
      "task 0\n",
      "task 1\n",
      "task 2\n",
      "task 3\n",
      "task 4\n",
      "Starting rep 20\n",
      "task 0\n",
      "task 1\n",
      "task 2\n",
      "task 3\n",
      "task 4\n",
      "Starting rep 21\n",
      "task 0\n",
      "task 1\n",
      "task 2\n",
      "task 3\n",
      "task 4\n",
      "Starting rep 22\n",
      "task 0\n",
      "task 1\n",
      "task 2\n",
      "task 3\n",
      "task 4\n",
      "Starting rep 23\n",
      "task 0\n",
      "task 1\n",
      "task 2\n",
      "task 3\n",
      "task 4\n",
      "Starting rep 24\n",
      "task 0\n",
      "task 1\n",
      "task 2\n",
      "task 3\n",
      "task 4\n",
      "Starting rep 25\n",
      "task 0\n",
      "task 1\n",
      "task 2\n",
      "task 3\n",
      "task 4\n",
      "Starting rep 26\n",
      "task 0\n",
      "task 1\n",
      "task 2\n",
      "task 3\n",
      "task 4\n",
      "Starting rep 27\n",
      "task 0\n",
      "task 1\n",
      "task 2\n",
      "task 3\n",
      "task 4\n",
      "Starting rep 28\n",
      "task 0\n",
      "task 1\n",
      "task 2\n",
      "task 3\n",
      "task 4\n",
      "Starting rep 29\n",
      "task 0\n",
      "task 1\n",
      "task 2\n",
      "task 3\n",
      "task 4\n"
     ]
    }
   ],
   "source": [
    "# initialize list for storing results\n",
    "accuracies_across_tasks = []\n",
    "\n",
    "# format data\n",
    "if model == 'dnn':\n",
    "    x = x_data\n",
    "    y = y_data\n",
    "elif model == 'uf':\n",
    "    x = x_data \n",
    "    y = y_data\n",
    "\n",
    "# get y values per task\n",
    "ys_by_task = [np.unique(i) for i in labels]\n",
    "\n",
    "# get the count of the least frequent label over all tasks\n",
    "min_labelct = np.min([np.min(np.unique(each_set, return_counts=True)[1]) for each_set in y_data])\n",
    "\n",
    "# run experiment over all reps\n",
    "for rep in range(reps):\n",
    "    print('Starting rep', rep)\n",
    "    \n",
    "    train_x_task = []\n",
    "    train_y_task = []\n",
    "    test_x_task = []\n",
    "    test_y_task = []\n",
    "    \n",
    "    # sample num_points_per_task from each dataset\n",
    "    x_sample = []\n",
    "    y_sample = []\n",
    "    for dataset, label in zip(x, y):\n",
    "        sample = []\n",
    "        for unique_label in np.unique(label):\n",
    "            sample += list(np.random.choice(np.where(label==unique_label)[0], min_labelct))\n",
    "        x_sample.append(dataset[sample])\n",
    "        y_sample.append(label[sample])\n",
    "        \n",
    "    # initialize overall learner\n",
    "    learner = LifelongClassificationForest(default_n_estimators=num_trees, default_max_depth=30)\n",
    "\n",
    "    # for each task\n",
    "    for task in range(num_tasks):\n",
    "        print('task', task)\n",
    "\n",
    "        # get train/test data \n",
    "        tr_x, te_x, tr_y, te_y = train_test_split(x_sample[task], y_sample[task], test_size=0.2)\n",
    "        train_x_task.append(tr_x)\n",
    "        train_y_task.append(tr_y)\n",
    "        test_x_task.append(te_x)\n",
    "        test_y_task.append(te_y)\n",
    "        \n",
    "        # predict on single task (UF learner) - CHANGE TO UNCERTAINTYFOREST LATER\n",
    "        uf_learner = LifelongClassificationForest(default_n_estimators=num_trees, default_max_depth=30)\n",
    "        uf_learner.add_task(train_x_task[task], train_y_task[task])\n",
    "        uf_predictions = uf_learner.predict(test_x_task[task], task_id=0)\n",
    "        accuracies_across_tasks.append(np.mean(uf_predictions == test_y_task[task]))\n",
    "        \n",
    "        # feed to overall learner \n",
    "        learner.add_task(train_x_task[task], train_y_task[task])\n",
    "\n",
    "        # evaluate for other tasks\n",
    "        for other_task in range(num_tasks):\n",
    "\n",
    "            if other_task > task:\n",
    "                pass\n",
    "\n",
    "            else:\n",
    "                # predict on current task using other tasks\n",
    "                prev_task_predictions = learner.predict(test_x_task[other_task], task_id=other_task)\n",
    "                accuracies_across_tasks.append(np.mean(prev_task_predictions == test_y_task[other_task]))\n",
    "        \n",
    "# average results\n",
    "accuracy_all_task = np.array(accuracies_across_tasks).reshape((reps, -1))\n",
    "accuracy_all_task = np.mean(accuracy_all_task, axis = 0)"
   ]
  },
  {
   "cell_type": "code",
   "execution_count": 8,
   "metadata": {},
   "outputs": [
    {
     "data": {
      "text/plain": [
       "array([0.40600316, 0.40442338, 0.22741935, 0.41858873, 0.22849462,\n",
       "       0.09      , 0.44186414, 0.23548387, 0.10424731, 0.03075269,\n",
       "       0.45576619, 0.23602151, 0.11010753, 0.04322581, 0.20174731,\n",
       "       0.46129542, 0.23494624, 0.11489247, 0.04473118, 0.23454301])"
      ]
     },
     "execution_count": 8,
     "metadata": {},
     "output_type": "execute_result"
    }
   ],
   "source": [
    "accuracy_all_task"
   ]
  },
  {
   "cell_type": "code",
   "execution_count": 9,
   "metadata": {},
   "outputs": [],
   "source": [
    "# accuracy\n",
    "err = [[] for i in range(num_tasks)]\n",
    "for i in range(num_tasks):\n",
    "    for j in range(i, num_tasks):\n",
    "        err[i].append(1-accuracy_all_task[np.sum(list(range(1,j+2)))+i])\n",
    "\n",
    "# backwards transfer efficiency\n",
    "bte = [[] for i in range(num_tasks)]\n",
    "for i in range(num_tasks):\n",
    "    for j in range(i, num_tasks):\n",
    "        err_up_to_taskt = 1-accuracy_all_task[np.sum(list(range(1,i+2)))+i]\n",
    "        err_all_seen =    1-accuracy_all_task[np.sum(list(range(1,j+2)))+i]\n",
    "        bte[i].append(err_up_to_taskt/err_all_seen)\n",
    "\n",
    "# forwards transfer efficiency\n",
    "fte = [[] for i in range(num_tasks)]\n",
    "for i in range(num_tasks):\n",
    "    err_taskt_only =  1-accuracy_all_task[np.sum(list(range(1,i+2)))-1]\n",
    "    err_up_to_taskt = 1-accuracy_all_task[np.sum(list(range(1,i+2)))+i]\n",
    "    fte[i].append(err_taskt_only/err_up_to_taskt)\n",
    "\n",
    "# transfer efficiency\n",
    "te = [[] for i in range(num_tasks)]\n",
    "for i in range(num_tasks):\n",
    "    for j in range(i, num_tasks):\n",
    "        err_taskt_only =  1-accuracy_all_task[np.sum(list(range(1,i+2)))-1]\n",
    "        err_all_seen =    1-accuracy_all_task[np.sum(list(range(1,j+2)))+i]\n",
    "        te[i].append(err_taskt_only/err_all_seen)"
   ]
  },
  {
   "cell_type": "code",
   "execution_count": 10,
   "metadata": {},
   "outputs": [
    {
     "data": {
      "text/plain": [
       "[[0.9973474801061007],\n",
       " [1.0013937282229968],\n",
       " [1.0159054078386651],\n",
       " [1.013036637446617],\n",
       " [1.042844600526778]]"
      ]
     },
     "execution_count": 10,
     "metadata": {},
     "output_type": "execute_result"
    }
   ],
   "source": [
    "fte"
   ]
  },
  {
   "cell_type": "code",
   "execution_count": 11,
   "metadata": {},
   "outputs": [
    {
     "data": {
      "text/plain": [
       "[[1.0,\n",
       "  1.0243637351689159,\n",
       "  1.0670818001698272,\n",
       "  1.0943396226415092,\n",
       "  1.105571847507331],\n",
       " [1.0, 1.0091420534458508, 1.0098522167487685, 1.0084328882642306],\n",
       " [1.0, 1.0065853069115516, 1.0120269695681223],\n",
       " [1.0, 1.0015758667266996],\n",
       " [1.0]]"
      ]
     },
     "execution_count": 11,
     "metadata": {},
     "output_type": "execute_result"
    }
   ],
   "source": [
    "bte"
   ]
  },
  {
   "cell_type": "code",
   "execution_count": 12,
   "metadata": {},
   "outputs": [
    {
     "data": {
      "text/plain": [
       "[[0.9973474801061007,\n",
       "  1.0216465899827913,\n",
       "  1.0642513444664587,\n",
       "  1.0914368650217703,\n",
       "  1.1026392961876827],\n",
       " [1.0013937282229968,\n",
       "  1.0105485232067513,\n",
       "  1.011259676284307,\n",
       "  1.0098383696416025],\n",
       " [1.0159054078386651, 1.0225954567423876, 1.0281236712628319],\n",
       " [1.013036637446617, 1.014633048176497],\n",
       " [1.042844600526778]]"
      ]
     },
     "execution_count": 12,
     "metadata": {},
     "output_type": "execute_result"
    }
   ],
   "source": [
    "te"
   ]
  },
  {
   "cell_type": "code",
   "execution_count": 13,
   "metadata": {},
   "outputs": [
    {
     "data": {
      "text/plain": [
       "[[0.5955766192733016,\n",
       "  0.5814112690889941,\n",
       "  0.5581358609794629,\n",
       "  0.5442338072669827,\n",
       "  0.5387045813586099],\n",
       " [0.771505376344086,\n",
       "  0.7645161290322581,\n",
       "  0.763978494623656,\n",
       "  0.7650537634408602],\n",
       " [0.895752688172043, 0.8898924731182796, 0.8851075268817205],\n",
       " [0.9567741935483871, 0.9552688172043011],\n",
       " [0.7654569892473118]]"
      ]
     },
     "execution_count": 13,
     "metadata": {},
     "output_type": "execute_result"
    }
   ],
   "source": [
    "err"
   ]
  },
  {
   "cell_type": "code",
   "execution_count": 14,
   "metadata": {},
   "outputs": [
    {
     "data": {
      "image/png": "[encoded data removed]",
      "text/plain": [
       "<Figure size 1152x828 with 4 Axes>"
      ]
     },
     "metadata": {},
     "output_type": "display_data"
    }
   ],
   "source": [
    "# set figure parameters and plot results \n",
    "sns.set_style('ticks')\n",
    "clr = [\"#e41a1c\", \"#a65628\", \"#377eb8\", \"#4daf4a\", \"#984ea3\", \"#ff7f00\", \"#CCCC00\"]\n",
    "fontsize=32\n",
    "ticksize=32\n",
    "\n",
    "fig, ax = plt.subplots(2,2, figsize=(16,11.5))\n",
    "sns.despine()\n",
    "sns.color_palette(\"Set1\")\n",
    "\n",
    "ax[0][0].plot(np.arange(1,num_tasks+1), fte, c='red', marker='.', markersize=14, linewidth=3)\n",
    "ax[0][0].hlines(1, 1,num_tasks, colors='grey', linestyles='dashed',linewidth=1.5)\n",
    "ax[0][0].tick_params(labelsize=ticksize)\n",
    "ax[0][0].set_xlabel('Number of tasks seen', fontsize=fontsize)\n",
    "ax[0][0].set_ylabel('log Forward TE', fontsize=fontsize)\n",
    "ax[0][0].set_xticks(list(range(1, num_tasks+1)))\n",
    "ax[0][0].set_yticks([1,1.05,1.1])\n",
    "log_lbl = np.round(np.log([1,1.05,1.1]),2)\n",
    "labels = [item.get_text() for item in ax[0][0].get_yticklabels()]\n",
    "for ii,_ in enumerate(labels):\n",
    "    labels[ii] = str(log_lbl[ii])\n",
    "ax[0][0].set_yticklabels(labels)\n",
    "\n",
    "for i in range(num_tasks):\n",
    "    et = np.asarray(bte[i])\n",
    "    ns = np.arange(i + 1, num_tasks + 1)\n",
    "    ax[0][1].plot(ns, et, c='red', marker='.', markersize=14, linewidth=3)\n",
    "\n",
    "ax[0][1].set_xlabel('Number of tasks seen', fontsize=fontsize)\n",
    "ax[0][1].set_ylabel('log Backward TE', fontsize=fontsize)\n",
    "ax[0][1].tick_params(labelsize=ticksize)\n",
    "ax[0][1].hlines(1, 1,num_tasks, colors='grey', linestyles='dashed',linewidth=1.5)\n",
    "ax[0][1].set_xticks(list(range(1, num_tasks+1)))\n",
    "ax[0][1].set_yticks([1,1.05,1.1])\n",
    "log_lbl = np.round(np.log([1,1.05,1.1]),2)\n",
    "labels = [item.get_text() for item in ax[0][1].get_yticklabels()]\n",
    "for ii,_ in enumerate(labels):\n",
    "    labels[ii] = str(log_lbl[ii])\n",
    "ax[0][1].set_yticklabels(labels)\n",
    "\n",
    "for i in range(num_tasks):\n",
    "    et = np.asarray(te[i])\n",
    "    ns = np.arange(i + 1, num_tasks + 1)\n",
    "    ax[1][0].plot(ns, et, c='red', marker='.', markersize=14, linewidth=3)\n",
    "\n",
    "ax[1][0].set_xlabel('Number of tasks seen', fontsize=fontsize)\n",
    "ax[1][0].set_ylabel('log TE', fontsize=fontsize)\n",
    "#ax[1][0].set_xticks(np.arange(1,10))\n",
    "ax[1][0].tick_params(labelsize=ticksize)\n",
    "ax[1][0].hlines(1, 1,num_tasks, colors='grey', linestyles='dashed',linewidth=1.5)\n",
    "ax[1][0].set_xticks(list(range(1, num_tasks+1)))\n",
    "ax[1][0].set_yticks([1,1.05,1.1])\n",
    "log_lbl = np.round(np.log([1,1.05,1.1]),2)\n",
    "labels = [item.get_text() for item in ax[1][0].get_yticklabels()]\n",
    "for ii,_ in enumerate(labels):\n",
    "    labels[ii] = str(log_lbl[ii])\n",
    "ax[1][0].set_yticklabels(labels)\n",
    "\n",
    "for i in range(num_tasks):\n",
    "    et = np.asarray(err[i])\n",
    "    ns = np.arange(i + 1, num_tasks + 1)\n",
    "    ax[1][1].plot(ns, 1-et , c='red', marker='.', markersize=14, linewidth=3)\n",
    "\n",
    "ax[1][1].set_xlabel('Number of tasks seen', fontsize=fontsize)\n",
    "ax[1][1].set_ylabel('Accuracy', fontsize=fontsize)\n",
    "ax[1][1].tick_params(labelsize=ticksize)\n",
    "ax[1][1].set_xticks([1,2,3,4,5])\n",
    "ax[1][1].set_yticks([0, 0.1, 0.2, 0.3, 0.4, 0.5])\n",
    "\n",
    "#fig.suptitle(\"Transfer Efficiency Between MNIST and Fashion-MNIST\", fontsize=36)\n",
    "plt.tight_layout()"
   ]
  },
  {
   "cell_type": "code",
   "execution_count": null,
   "metadata": {},
   "outputs": [],
   "source": []
  }
 ],
 "metadata": {
  "kernelspec": {
   "display_name": "Python 3",
   "language": "python",
   "name": "python3"
  },
  "language_info": {
   "codemirror_mode": {
    "name": "ipython",
    "version": 3
   },
   "file_extension": ".py",
   "mimetype": "text/x-python",
   "name": "python",
   "nbconvert_exporter": "python",
   "pygments_lexer": "ipython3",
   "version": "3.7.0"
  }
 },
 "nbformat": 4,
 "nbformat_minor": 4
}
